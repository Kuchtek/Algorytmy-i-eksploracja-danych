{
 "cells": [
  {
   "cell_type": "code",
   "execution_count": 14,
   "metadata": {},
   "outputs": [],
   "source": [
    "import pandas as pd\n",
    "from sklearn.model_selection import train_test_split\n",
    "import numpy as np"
   ]
  },
  {
   "cell_type": "code",
   "execution_count": 7,
   "metadata": {},
   "outputs": [],
   "source": [
    "def load_wine():\n",
    "    wine_names = ['Class', 'Alcohol', 'Malic acid', 'Ash', 'Alcalinity of ash', 'Magnesium', 'Total phenols', 'Flavanoids', 'Nonflavanoid phenols', 'Proanthocyanins', 'Color intensity', 'Hue', 'OD280/OD315', 'Proline']\n",
    "    wine_data = pd.read_csv('https://archive.ics.uci.edu/ml/machine-learning-databases/wine/wine.data', names = wine_names) \n",
    "    wine_df = pd.DataFrame(wine_data)\n",
    "    return wine_df"
   ]
  },
  {
   "cell_type": "code",
   "execution_count": 25,
   "metadata": {},
   "outputs": [],
   "source": [
    "def train_test_split_method(wine_df):\n",
    "    X = wine_df.iloc[:,1:]\n",
    "    y = wine_df.iloc[:,0]\n",
    "    X_train, X_test, y_train, y_test = train_test_split(X, y, train_size=0.6, shuffle=True)\n",
    "    X_train.to_csv(\"x_train.csv\",index=False)\n",
    "    X_test.to_csv(\"x_test.csv\",index=False)\n",
    "    y_train.to_csv(\"y_train.csv\",index=False)\n",
    "    y_test.to_csv(\"y_test.csv\",index=False)"
   ]
  },
  {
   "cell_type": "code",
   "execution_count": 46,
   "metadata": {},
   "outputs": [],
   "source": [
    "def dataset_analysis(wine_df):\n",
    "    text = \"Ilość wartości: {0}\\n\".format(wine_df.shape[0])\n",
    "    text +=\"--------------------------------------------------\\n\"\n",
    "    text +=\"Ilość wartości unikalnych per kolumna:\\n\"\n",
    "    for col in wine_df.columns:\n",
    "        text+=col+\"\\t\"\n",
    "    text += \"\\n\"\n",
    "    for col in wine_df.columns:\n",
    "        text+=str(wine_df[col].nunique())+\"\\t\"\n",
    "    text += \"\\n\"\n",
    "    text +=\"--------------------------------------------------\\n\"\n",
    "    text +=\"Wartość średnia w zbiorze z pominięciem wartości null:\\n\"\n",
    "    for col in wine_df.columns:\n",
    "        text+=col+\"\\t\"\n",
    "    text+=\"\\n\"\n",
    "    for col in wine_df.columns:\n",
    "        text+=str(wine_df[col].mean(axis=0))+\"\\t\"\n",
    "    text += \"\\n\"\n",
    "    text +=\"--------------------------------------------------\\n\"\n",
    "    text +=\"Ilość wartości null w zbiorze per kolumna:\\n\"\n",
    "    for col in wine_df.columns:\n",
    "        text+=col+\"\\t\"\n",
    "    text+=\"\\n\"\n",
    "    for col in wine_df.columns:\n",
    "        text+=str(wine_df[col].isnull().sum())+\"\\t\"\n",
    "    text += \"\\n\"\n",
    "    text +=\"--------------------------------------------------\\n\"\n",
    "    text +=\"Wartość maksymalna per kolumna:\\n\"\n",
    "    for col in wine_df.columns:\n",
    "        text+=col+\"\\t\"\n",
    "    text+=\"\\n\"\n",
    "    for col in wine_df.columns:\n",
    "        text+=str(wine_df[col].max())+\"\\t\"\n",
    "    text += \"\\n\"\n",
    "    text +=\"--------------------------------------------------\\n\"\n",
    "    text +=\"Wartość minimalna per kolumna:\\n\"\n",
    "    for col in wine_df.columns:\n",
    "        text+=col+\"\\t\"\n",
    "    text+=\"\\n\"\n",
    "    for col in wine_df.columns:\n",
    "        text+=str(wine_df[col].min())+\"\\t\"\n",
    "    text += \"\\n\"\n",
    "    text +=\"--------------------------------------------------\\n\"\n",
    "    text +=\"Wartość najczęściej występująca per kolumna:\\n\"\n",
    "    for col in wine_df.columns:\n",
    "        text+=col+\"\\t\"\n",
    "    text+=\"\\n\"\n",
    "    i=0\n",
    "    for col in wine_df.columns:\n",
    "        text+=str(wine_df[col].mode().max())+\"\\t\"\n",
    "        i +=1\n",
    "    text += \"\\n\"\n",
    "    text += \"Koniec analizy\"\n",
    "    print(text)"
   ]
  },
  {
   "cell_type": "code",
   "execution_count": 12,
   "metadata": {},
   "outputs": [],
   "source": [
    "df = load_wine()"
   ]
  },
  {
   "cell_type": "code",
   "execution_count": 26,
   "metadata": {},
   "outputs": [],
   "source": [
    "train_test_split_method(df)"
   ]
  },
  {
   "cell_type": "code",
   "execution_count": 47,
   "metadata": {},
   "outputs": [
    {
     "name": "stdout",
     "output_type": "stream",
     "text": [
      "Ilość wartości: 178\n",
      "--------------------------------------------------\n",
      "Ilość wartości unikalnych per kolumna:\n",
      "Class\tAlcohol\tMalic acid\tAsh\tAlcalinity of ash\tMagnesium\tTotal phenols\tFlavanoids\tNonflavanoid phenols\tProanthocyanins\tColor intensity\tHue\tOD280/OD315\tProline\t\n",
      "3\t126\t133\t79\t63\t53\t97\t132\t39\t101\t132\t78\t122\t121\t\n",
      "--------------------------------------------------\n",
      "Wartość średnia w zbiorze z pominięciem wartości null:\n",
      "Class\tAlcohol\tMalic acid\tAsh\tAlcalinity of ash\tMagnesium\tTotal phenols\tFlavanoids\tNonflavanoid phenols\tProanthocyanins\tColor intensity\tHue\tOD280/OD315\tProline\t\n",
      "1.9382022471910112\t13.00061797752809\t2.3363483146067416\t2.3665168539325845\t19.49494382022472\t99.74157303370787\t2.295112359550562\t2.0292696629213487\t0.3618539325842696\t1.5908988764044945\t5.058089882022472\t0.9574494382022471\t2.6116853932584267\t746.8932584269663\t\n",
      "--------------------------------------------------\n",
      "Ilość wartości null w zbiorze per kolumna:\n",
      "Class\tAlcohol\tMalic acid\tAsh\tAlcalinity of ash\tMagnesium\tTotal phenols\tFlavanoids\tNonflavanoid phenols\tProanthocyanins\tColor intensity\tHue\tOD280/OD315\tProline\t\n",
      "0\t0\t0\t0\t0\t0\t0\t0\t0\t0\t0\t0\t0\t0\t\n",
      "--------------------------------------------------\n",
      "Wartość maksymalna per kolumna:\n",
      "Class\tAlcohol\tMalic acid\tAsh\tAlcalinity of ash\tMagnesium\tTotal phenols\tFlavanoids\tNonflavanoid phenols\tProanthocyanins\tColor intensity\tHue\tOD280/OD315\tProline\t\n",
      "3\t14.83\t5.8\t3.23\t30.0\t162\t3.88\t5.08\t0.66\t3.58\t13.0\t1.71\t4.0\t1680\t\n",
      "--------------------------------------------------\n",
      "Wartość minimalna per kolumna:\n",
      "Class\tAlcohol\tMalic acid\tAsh\tAlcalinity of ash\tMagnesium\tTotal phenols\tFlavanoids\tNonflavanoid phenols\tProanthocyanins\tColor intensity\tHue\tOD280/OD315\tProline\t\n",
      "1\t11.03\t0.74\t1.36\t10.6\t70\t0.98\t0.34\t0.13\t0.41\t1.28\t0.48\t1.27\t278\t\n",
      "--------------------------------------------------\n",
      "Wartość najczęściej występująca per kolumna:\n",
      "Class\tAlcohol\tMalic acid\tAsh\tAlcalinity of ash\tMagnesium\tTotal phenols\tFlavanoids\tNonflavanoid phenols\tProanthocyanins\tColor intensity\tHue\tOD280/OD315\tProline\t\n",
      "2\t13.05\t1.73\t2.3\t20.0\t88\t2.2\t2.65\t0.43\t1.35\t4.6\t1.04\t2.87\t680\t\n",
      "Koniec analizy\n"
     ]
    }
   ],
   "source": [
    "dataset_analysis(df)"
   ]
  },
  {
   "cell_type": "code",
   "execution_count": null,
   "metadata": {},
   "outputs": [],
   "source": []
  }
 ],
 "metadata": {
  "kernelspec": {
   "display_name": "Python 3",
   "language": "python",
   "name": "python3"
  },
  "language_info": {
   "codemirror_mode": {
    "name": "ipython",
    "version": 3
   },
   "file_extension": ".py",
   "mimetype": "text/x-python",
   "name": "python",
   "nbconvert_exporter": "python",
   "pygments_lexer": "ipython3",
   "version": "3.8.2"
  }
 },
 "nbformat": 4,
 "nbformat_minor": 4
}
